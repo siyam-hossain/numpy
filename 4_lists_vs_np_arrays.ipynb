{
 "cells": [
  {
   "cell_type": "code",
   "execution_count": 2,
   "id": "b77eedee-845d-4f5f-a47d-bffc13dacacb",
   "metadata": {},
   "outputs": [],
   "source": [
    "import numpy as np"
   ]
  },
  {
   "cell_type": "code",
   "execution_count": 3,
   "id": "5c7b2013",
   "metadata": {},
   "outputs": [],
   "source": [
    "# lets analyze which one is efficient whether list or array"
   ]
  },
  {
   "cell_type": "code",
   "execution_count": 4,
   "id": "375e3b6a",
   "metadata": {},
   "outputs": [],
   "source": [
    "list1 = range(100)\n",
    "arr1 = np.arange(100)\n"
   ]
  },
  {
   "cell_type": "code",
   "execution_count": 5,
   "id": "297891aa",
   "metadata": {},
   "outputs": [
    {
     "data": {
      "text/plain": [
       "range(0, 100)"
      ]
     },
     "execution_count": 5,
     "metadata": {},
     "output_type": "execute_result"
    }
   ],
   "source": [
    "list1\n"
   ]
  },
  {
   "cell_type": "code",
   "execution_count": 6,
   "id": "afaafa56",
   "metadata": {},
   "outputs": [
    {
     "data": {
      "text/plain": [
       "array([ 0,  1,  2,  3,  4,  5,  6,  7,  8,  9, 10, 11, 12, 13, 14, 15, 16,\n",
       "       17, 18, 19, 20, 21, 22, 23, 24, 25, 26, 27, 28, 29, 30, 31, 32, 33,\n",
       "       34, 35, 36, 37, 38, 39, 40, 41, 42, 43, 44, 45, 46, 47, 48, 49, 50,\n",
       "       51, 52, 53, 54, 55, 56, 57, 58, 59, 60, 61, 62, 63, 64, 65, 66, 67,\n",
       "       68, 69, 70, 71, 72, 73, 74, 75, 76, 77, 78, 79, 80, 81, 82, 83, 84,\n",
       "       85, 86, 87, 88, 89, 90, 91, 92, 93, 94, 95, 96, 97, 98, 99])"
      ]
     },
     "execution_count": 6,
     "metadata": {},
     "output_type": "execute_result"
    }
   ],
   "source": [
    "arr1"
   ]
  },
  {
   "cell_type": "code",
   "execution_count": 7,
   "id": "5a4e0418",
   "metadata": {},
   "outputs": [],
   "source": [
    "# let's analyze the memory in order to check efficiency \n",
    "# to do that we need to import a library"
   ]
  },
  {
   "cell_type": "code",
   "execution_count": 8,
   "id": "a99e2bb2",
   "metadata": {},
   "outputs": [],
   "source": [
    "import sys"
   ]
  },
  {
   "cell_type": "code",
   "execution_count": 9,
   "id": "7793fd98",
   "metadata": {},
   "outputs": [],
   "source": [
    "# .getsizeof(any element between that range)"
   ]
  },
  {
   "cell_type": "code",
   "execution_count": 10,
   "id": "0223460c",
   "metadata": {},
   "outputs": [
    {
     "name": "stdout",
     "output_type": "stream",
     "text": [
      "memory occopied by list:  2800\n"
     ]
    }
   ],
   "source": [
    "print(\"memory occopied by list: \",sys.getsizeof(45)*len(list1))"
   ]
  },
  {
   "cell_type": "code",
   "execution_count": 11,
   "id": "ca5e8f56",
   "metadata": {},
   "outputs": [
    {
     "name": "stdout",
     "output_type": "stream",
     "text": [
      "memory occopied by numpy array:  800\n"
     ]
    }
   ],
   "source": [
    "print(\"memory occopied by numpy array: \",arr1.itemsize*arr1.size)"
   ]
  },
  {
   "cell_type": "code",
   "execution_count": 12,
   "id": "719e62e0",
   "metadata": {},
   "outputs": [],
   "source": [
    "# speed measure in terms of time"
   ]
  },
  {
   "cell_type": "code",
   "execution_count": 13,
   "id": "70b4cceb",
   "metadata": {},
   "outputs": [],
   "source": [
    "import time"
   ]
  },
  {
   "cell_type": "code",
   "execution_count": 14,
   "id": "f0a8985f",
   "metadata": {},
   "outputs": [],
   "source": [
    "# for list"
   ]
  },
  {
   "cell_type": "code",
   "execution_count": 15,
   "id": "62a2211d",
   "metadata": {},
   "outputs": [
    {
     "data": {
      "text/plain": [
       "0.7815203666687012"
      ]
     },
     "execution_count": 15,
     "metadata": {},
     "output_type": "execute_result"
    }
   ],
   "source": [
    "x = range(10000000)\n",
    "y = range(10000000,20000000) \n",
    "\n",
    "start_time = time.time()\n",
    "\n",
    "c = [ (x,y) for x,y in zip(x,y) ]\n",
    "\n",
    "runtime = time.time() - start_time\n",
    "runtime"
   ]
  },
  {
   "cell_type": "code",
   "execution_count": 16,
   "id": "4a59a7bd",
   "metadata": {},
   "outputs": [],
   "source": [
    "# for numpy array"
   ]
  },
  {
   "cell_type": "code",
   "execution_count": 17,
   "id": "df455309",
   "metadata": {},
   "outputs": [
    {
     "name": "stdout",
     "output_type": "stream",
     "text": [
      "execution time:  0.010006189346313477\n"
     ]
    }
   ],
   "source": [
    "j = np.arange(10000000)\n",
    "k = np.arange(10000000,20000000)\n",
    "\n",
    "st = time.time()\n",
    "\n",
    "l = j+k\n",
    "\n",
    "rt = time.time() - st\n",
    "print(\"execution time: \",rt)"
   ]
  }
 ],
 "metadata": {
  "kernelspec": {
   "display_name": "numpy_env",
   "language": "python",
   "name": "python3"
  },
  "language_info": {
   "codemirror_mode": {
    "name": "ipython",
    "version": 3
   },
   "file_extension": ".py",
   "mimetype": "text/x-python",
   "name": "python",
   "nbconvert_exporter": "python",
   "pygments_lexer": "ipython3",
   "version": "3.12.3"
  },
  "widgets": {
   "application/vnd.jupyter.widget-state+json": {
    "state": {},
    "version_major": 2,
    "version_minor": 0
   }
  }
 },
 "nbformat": 4,
 "nbformat_minor": 5
}
