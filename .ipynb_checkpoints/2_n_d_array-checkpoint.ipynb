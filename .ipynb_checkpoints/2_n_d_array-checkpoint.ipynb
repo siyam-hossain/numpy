{
 "cells": [
  {
   "cell_type": "code",
   "execution_count": null,
   "id": "58b311c9-3770-4fb7-86c6-bb01ff2e8c9c",
   "metadata": {},
   "outputs": [],
   "source": [
    "# creating numpy/n-d arrays \n",
    "# first wee need to import library"
   ]
  },
  {
   "cell_type": "code",
   "execution_count": 2,
   "id": "b01ea9b7-fdc6-496f-9e8a-419c38b23665",
   "metadata": {},
   "outputs": [],
   "source": [
    "import numpy as np"
   ]
  },
  {
   "cell_type": "code",
   "execution_count": 8,
   "id": "e36e1d01-426f-4544-91c6-b5252856d01f",
   "metadata": {},
   "outputs": [
    {
     "data": {
      "text/plain": [
       "array([1, 2, 3, 4, 5])"
      ]
     },
     "execution_count": 8,
     "metadata": {},
     "output_type": "execute_result"
    }
   ],
   "source": [
    "arr1 = np.array([1,2,3,4,5])\n",
    "arr1"
   ]
  },
  {
   "cell_type": "code",
   "execution_count": 9,
   "id": "a7a5b5d5-9ed3-43c3-8deb-c2c2eafcdff3",
   "metadata": {},
   "outputs": [
    {
     "name": "stdout",
     "output_type": "stream",
     "text": [
      "[1 2 3 4 5]\n"
     ]
    }
   ],
   "source": [
    "print(arr1)"
   ]
  },
  {
   "cell_type": "code",
   "execution_count": 11,
   "id": "a87e50f0-df32-48c3-a50e-9696100a6ca1",
   "metadata": {},
   "outputs": [
    {
     "data": {
      "text/plain": [
       "numpy.ndarray"
      ]
     },
     "execution_count": 11,
     "metadata": {},
     "output_type": "execute_result"
    }
   ],
   "source": [
    "type(arr1)"
   ]
  },
  {
   "cell_type": "code",
   "execution_count": null,
   "id": "10307a56-fce1-40e9-aa29-f4a8d687b769",
   "metadata": {},
   "outputs": [],
   "source": [
    "# 2 dimentional array"
   ]
  },
  {
   "cell_type": "code",
   "execution_count": 13,
   "id": "da6d056b-1def-46c0-a0fa-4e456f1a86c0",
   "metadata": {},
   "outputs": [
    {
     "data": {
      "text/plain": [
       "array([[1, 2, 3],\n",
       "       [4, 5, 6]])"
      ]
     },
     "execution_count": 13,
     "metadata": {},
     "output_type": "execute_result"
    }
   ],
   "source": [
    "\n",
    "arr2 = np.array([[1,2,3], [4,5,6]])\n",
    "arr2"
   ]
  },
  {
   "cell_type": "code",
   "execution_count": 14,
   "id": "b261754b-be82-4d46-8ec6-e21e5ba6f654",
   "metadata": {},
   "outputs": [
    {
     "name": "stdout",
     "output_type": "stream",
     "text": [
      "[[1 2 3]\n",
      " [4 5 6]]\n"
     ]
    }
   ],
   "source": [
    "print(arr2)"
   ]
  },
  {
   "cell_type": "code",
   "execution_count": 15,
   "id": "97c58a5a-f10a-48bb-a7f4-bf31fe36f5af",
   "metadata": {},
   "outputs": [
    {
     "data": {
      "text/plain": [
       "numpy.ndarray"
      ]
     },
     "execution_count": 15,
     "metadata": {},
     "output_type": "execute_result"
    }
   ],
   "source": [
    "type(arr2)"
   ]
  },
  {
   "cell_type": "code",
   "execution_count": null,
   "id": "5d554d2a-4828-44c3-92a2-49e85ffc4ac8",
   "metadata": {},
   "outputs": [],
   "source": [
    "# initializing a zero matric\n",
    "# .zeros( (x,y) ); x = row; y = col\n",
    "# by default the matric elements data type is floating point"
   ]
  },
  {
   "cell_type": "code",
   "execution_count": 18,
   "id": "ff5046e5-6eb0-48c1-90be-69a03c41ee20",
   "metadata": {},
   "outputs": [
    {
     "data": {
      "text/plain": [
       "array([[0., 0., 0.],\n",
       "       [0., 0., 0.]])"
      ]
     },
     "execution_count": 18,
     "metadata": {},
     "output_type": "execute_result"
    }
   ],
   "source": [
    "arr3 = np.zeros((2,3))\n",
    "arr3"
   ]
  },
  {
   "cell_type": "code",
   "execution_count": null,
   "id": "2d2fa914-2796-43bd-8395-cfe9e7c7e317",
   "metadata": {},
   "outputs": [],
   "source": [
    "# initializing a ones matric"
   ]
  },
  {
   "cell_type": "code",
   "execution_count": 23,
   "id": "1663e28f-7c30-4737-a4c2-c402733e18b7",
   "metadata": {},
   "outputs": [
    {
     "data": {
      "text/plain": [
       "array([[1., 1.],\n",
       "       [1., 1.],\n",
       "       [1., 1.]])"
      ]
     },
     "execution_count": 23,
     "metadata": {},
     "output_type": "execute_result"
    }
   ],
   "source": [
    "arr4 = np.ones((3,2))\n",
    "arr4"
   ]
  },
  {
   "cell_type": "code",
   "execution_count": 24,
   "id": "775e1b22-265b-4905-ad74-e4c7d4f22e9b",
   "metadata": {},
   "outputs": [
    {
     "name": "stdout",
     "output_type": "stream",
     "text": [
      "[[1. 1.]\n",
      " [1. 1.]\n",
      " [1. 1.]]\n"
     ]
    }
   ],
   "source": [
    "print(arr4)"
   ]
  },
  {
   "cell_type": "code",
   "execution_count": null,
   "id": "7deeaa0c-46f6-496d-a2b5-3e0eb96db7b9",
   "metadata": {},
   "outputs": [],
   "source": [
    "# identity matric\n",
    "# all elements of that matrics is zero \n",
    "# except the diagonal elements is 1"
   ]
  },
  {
   "cell_type": "code",
   "execution_count": 26,
   "id": "557c6da7-4613-495c-bc5c-71543c2c6a3e",
   "metadata": {},
   "outputs": [
    {
     "data": {
      "text/plain": [
       "array([[1., 0., 0., 0., 0.],\n",
       "       [0., 1., 0., 0., 0.],\n",
       "       [0., 0., 1., 0., 0.],\n",
       "       [0., 0., 0., 1., 0.],\n",
       "       [0., 0., 0., 0., 1.]])"
      ]
     },
     "execution_count": 26,
     "metadata": {},
     "output_type": "execute_result"
    }
   ],
   "source": [
    "arr5 = np.identity(5)\n",
    "arr5"
   ]
  },
  {
   "cell_type": "code",
   "execution_count": null,
   "id": "8ec4c8d1-1445-4cd6-ae60-d3a6c1c9bb75",
   "metadata": {},
   "outputs": [],
   "source": [
    "# .arange(n) or .arange(m,n) or .arange(m,n,o)\n",
    "# create a list for a certain range\n",
    "# m = lower range\n",
    "# n = upper range\n",
    "# o = skip\n",
    "# output will show: < n"
   ]
  },
  {
   "cell_type": "code",
   "execution_count": 29,
   "id": "6d914803-4c5b-4fad-955f-67a5faf26985",
   "metadata": {},
   "outputs": [
    {
     "data": {
      "text/plain": [
       "array([0, 1, 2, 3, 4, 5, 6, 7, 8, 9])"
      ]
     },
     "execution_count": 29,
     "metadata": {},
     "output_type": "execute_result"
    }
   ],
   "source": [
    "arr6 = np.arange(10)\n",
    "arr6"
   ]
  },
  {
   "cell_type": "code",
   "execution_count": 32,
   "id": "9c85e16b-54ab-4ba4-baaf-1587495b575d",
   "metadata": {},
   "outputs": [
    {
     "data": {
      "text/plain": [
       "array([ 5,  6,  7,  8,  9, 10, 11, 12, 13, 14, 15, 16, 17, 18, 19])"
      ]
     },
     "execution_count": 32,
     "metadata": {},
     "output_type": "execute_result"
    }
   ],
   "source": [
    "arr6_2 = np.arange(5,20)\n",
    "arr6_2"
   ]
  },
  {
   "cell_type": "code",
   "execution_count": 34,
   "id": "6d2861b9-2068-4a4d-88dc-bb835d3d1201",
   "metadata": {},
   "outputs": [
    {
     "data": {
      "text/plain": [
       "numpy.ndarray"
      ]
     },
     "execution_count": 34,
     "metadata": {},
     "output_type": "execute_result"
    }
   ],
   "source": [
    "type(arr6_2)"
   ]
  },
  {
   "cell_type": "code",
   "execution_count": 36,
   "id": "82e75a8e-1ae0-463b-af28-92af097cfa7b",
   "metadata": {},
   "outputs": [
    {
     "data": {
      "text/plain": [
       "array([ 2,  4,  6,  8, 10, 12, 14, 16, 18])"
      ]
     },
     "execution_count": 36,
     "metadata": {},
     "output_type": "execute_result"
    }
   ],
   "source": [
    "arr6_3 = np.arange(2,20,2);\n",
    "arr6_3"
   ]
  },
  {
   "cell_type": "code",
   "execution_count": null,
   "id": "751f188e-8f21-42b1-a1c3-c8cef1428b13",
   "metadata": {},
   "outputs": [],
   "source": [
    "# .linspace(n,m,o)\n",
    "# n = lower level\n",
    "# m = upper level\n",
    "# o = number of outcomes: means how many linerspaced number we want \n",
    "# the immediate below example we find 10 linearly spaced number\n",
    "# linearly spaced mean: \n",
    "# |10.0 - 11.11111111| = 1.11111111\n",
    "# |11.11111111 - 12.22222222| = 1.11111111\n"
   ]
  },
  {
   "cell_type": "code",
   "execution_count": 38,
   "id": "67ffca28-fef2-430a-8b7a-0fb1baa41bce",
   "metadata": {},
   "outputs": [
    {
     "data": {
      "text/plain": [
       "array([10.        , 11.11111111, 12.22222222, 13.33333333, 14.44444444,\n",
       "       15.55555556, 16.66666667, 17.77777778, 18.88888889, 20.        ])"
      ]
     },
     "execution_count": 38,
     "metadata": {},
     "output_type": "execute_result"
    }
   ],
   "source": [
    "arr7 = np.linspace(10,20,10)\n",
    "arr7"
   ]
  },
  {
   "cell_type": "code",
   "execution_count": 42,
   "id": "9b0990b4-63d2-464c-80ef-2cdfc34858ad",
   "metadata": {},
   "outputs": [
    {
     "data": {
      "text/plain": [
       "array([12.        , 12.3877551 , 12.7755102 , 13.16326531, 13.55102041,\n",
       "       13.93877551, 14.32653061, 14.71428571, 15.10204082, 15.48979592,\n",
       "       15.87755102, 16.26530612, 16.65306122, 17.04081633, 17.42857143,\n",
       "       17.81632653, 18.20408163, 18.59183673, 18.97959184, 19.36734694,\n",
       "       19.75510204, 20.14285714, 20.53061224, 20.91836735, 21.30612245,\n",
       "       21.69387755, 22.08163265, 22.46938776, 22.85714286, 23.24489796,\n",
       "       23.63265306, 24.02040816, 24.40816327, 24.79591837, 25.18367347,\n",
       "       25.57142857, 25.95918367, 26.34693878, 26.73469388, 27.12244898,\n",
       "       27.51020408, 27.89795918, 28.28571429, 28.67346939, 29.06122449,\n",
       "       29.44897959, 29.83673469, 30.2244898 , 30.6122449 , 31.        ])"
      ]
     },
     "execution_count": 42,
     "metadata": {},
     "output_type": "execute_result"
    }
   ],
   "source": [
    "arr7_2 = np.linspace(12,31,50)\n",
    "arr7_2"
   ]
  },
  {
   "cell_type": "code",
   "execution_count": 43,
   "id": "e6770d8c-b95a-45d8-84bc-ab9834b294d7",
   "metadata": {},
   "outputs": [],
   "source": [
    "# copy things\n",
    "# can easily copy one matric to another"
   ]
  },
  {
   "cell_type": "code",
   "execution_count": 44,
   "id": "d38a7392-6f94-40ae-8502-d8d341cdfc36",
   "metadata": {},
   "outputs": [
    {
     "data": {
      "text/plain": [
       "array([12.        , 12.3877551 , 12.7755102 , 13.16326531, 13.55102041,\n",
       "       13.93877551, 14.32653061, 14.71428571, 15.10204082, 15.48979592,\n",
       "       15.87755102, 16.26530612, 16.65306122, 17.04081633, 17.42857143,\n",
       "       17.81632653, 18.20408163, 18.59183673, 18.97959184, 19.36734694,\n",
       "       19.75510204, 20.14285714, 20.53061224, 20.91836735, 21.30612245,\n",
       "       21.69387755, 22.08163265, 22.46938776, 22.85714286, 23.24489796,\n",
       "       23.63265306, 24.02040816, 24.40816327, 24.79591837, 25.18367347,\n",
       "       25.57142857, 25.95918367, 26.34693878, 26.73469388, 27.12244898,\n",
       "       27.51020408, 27.89795918, 28.28571429, 28.67346939, 29.06122449,\n",
       "       29.44897959, 29.83673469, 30.2244898 , 30.6122449 , 31.        ])"
      ]
     },
     "execution_count": 44,
     "metadata": {},
     "output_type": "execute_result"
    }
   ],
   "source": [
    "arr8 = np.copy(arr7_2)\n",
    "arr8"
   ]
  }
 ],
 "metadata": {
  "kernelspec": {
   "display_name": "Python [conda env:base] *",
   "language": "python",
   "name": "conda-base-py"
  },
  "language_info": {
   "codemirror_mode": {
    "name": "ipython",
    "version": 3
   },
   "file_extension": ".py",
   "mimetype": "text/x-python",
   "name": "python",
   "nbconvert_exporter": "python",
   "pygments_lexer": "ipython3",
   "version": "3.13.5"
  }
 },
 "nbformat": 4,
 "nbformat_minor": 5
}
