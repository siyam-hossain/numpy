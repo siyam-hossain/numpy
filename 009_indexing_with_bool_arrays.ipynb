{
 "cells": [
  {
   "cell_type": "code",
   "execution_count": 1,
   "id": "893f28da",
   "metadata": {},
   "outputs": [],
   "source": [
    "import numpy as np"
   ]
  },
  {
   "cell_type": "code",
   "execution_count": 2,
   "id": "b651c563",
   "metadata": {},
   "outputs": [
    {
     "data": {
      "text/plain": [
       "array([[80, 27, 85,  8, 78],\n",
       "       [55,  1,  2, 42, 18],\n",
       "       [49, 89,  2, 62, 44],\n",
       "       [ 7, 32, 56, 60, 27]])"
      ]
     },
     "execution_count": 2,
     "metadata": {},
     "output_type": "execute_result"
    }
   ],
   "source": [
    "arr = np.random.randint(low=1, high=100, size=20).reshape(4,5)\n",
    "arr"
   ]
  },
  {
   "cell_type": "code",
   "execution_count": 3,
   "id": "b63d1e42",
   "metadata": {},
   "outputs": [
    {
     "data": {
      "text/plain": [
       "array([80, 27, 85,  8, 78])"
      ]
     },
     "execution_count": 3,
     "metadata": {},
     "output_type": "execute_result"
    }
   ],
   "source": [
    "arr[0]"
   ]
  },
  {
   "cell_type": "code",
   "execution_count": 4,
   "id": "08908695",
   "metadata": {},
   "outputs": [
    {
     "data": {
      "text/plain": [
       "array([[ True, False,  True, False,  True],\n",
       "       [ True, False, False, False, False],\n",
       "       [False,  True, False,  True, False],\n",
       "       [False, False,  True,  True, False]])"
      ]
     },
     "execution_count": 4,
     "metadata": {},
     "output_type": "execute_result"
    }
   ],
   "source": [
    "arr>50"
   ]
  },
  {
   "cell_type": "code",
   "execution_count": 5,
   "id": "3f0ccd59",
   "metadata": {},
   "outputs": [
    {
     "data": {
      "text/plain": [
       "(4, 5)"
      ]
     },
     "execution_count": 5,
     "metadata": {},
     "output_type": "execute_result"
    }
   ],
   "source": [
    "(arr>50).shape"
   ]
  },
  {
   "cell_type": "code",
   "execution_count": 6,
   "id": "d7797ba8",
   "metadata": {},
   "outputs": [
    {
     "data": {
      "text/plain": [
       "array([80, 85, 78, 55, 89, 62, 56, 60])"
      ]
     },
     "execution_count": 6,
     "metadata": {},
     "output_type": "execute_result"
    }
   ],
   "source": [
    "# indexing using boolean arrays\n",
    "arr[arr>50]"
   ]
  },
  {
   "cell_type": "code",
   "execution_count": null,
   "id": "08911cd1",
   "metadata": {},
   "outputs": [
    {
     "data": {
      "text/plain": [
       "array([85, 55, 89])"
      ]
     },
     "execution_count": 14,
     "metadata": {},
     "output_type": "execute_result"
    }
   ],
   "source": [
    "# i want array which contains element larger than 50 and odd num\n",
    "# must use bitwise & : boolean & boolean\n",
    "arr[(arr>50) & (arr%2 != 0)]"
   ]
  },
  {
   "cell_type": "code",
   "execution_count": null,
   "id": "6457e845",
   "metadata": {},
   "outputs": [
    {
     "data": {
      "text/plain": [
       "array([80, 27, 85, 78, 55,  1, 49, 89, 62,  7, 56, 60, 27])"
      ]
     },
     "execution_count": 13,
     "metadata": {},
     "output_type": "execute_result"
    }
   ],
   "source": [
    "# i want array which contains element larger than 50 or odd num\n",
    "# must use bitwise | : boolean | boolean\n",
    "arr[(arr>50) | (arr%2 != 0)]"
   ]
  },
  {
   "cell_type": "code",
   "execution_count": 20,
   "id": "70cfee90",
   "metadata": {},
   "outputs": [
    {
     "data": {
      "text/plain": [
       "array([[80, 27,  0,  8, 78],\n",
       "       [ 0,  1,  2, 42, 18],\n",
       "       [49,  0,  2, 62, 44],\n",
       "       [ 7, 32, 56, 60, 27]])"
      ]
     },
     "execution_count": 20,
     "metadata": {},
     "output_type": "execute_result"
    }
   ],
   "source": [
    "# i that case i want to replace those values using 0\n",
    "arr[(arr>50) & (arr%2 != 0)] = 0\n",
    "arr"
   ]
  }
 ],
 "metadata": {
  "kernelspec": {
   "display_name": "numpy_env",
   "language": "python",
   "name": "python3"
  },
  "language_info": {
   "codemirror_mode": {
    "name": "ipython",
    "version": 3
   },
   "file_extension": ".py",
   "mimetype": "text/x-python",
   "name": "python",
   "nbconvert_exporter": "python",
   "pygments_lexer": "ipython3",
   "version": "3.12.3"
  }
 },
 "nbformat": 4,
 "nbformat_minor": 5
}
