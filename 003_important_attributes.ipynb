{
 "cells": [
  {
   "cell_type": "code",
   "execution_count": 3,
   "id": "7b36749e-edaa-475e-9de4-352e88c70585",
   "metadata": {},
   "outputs": [],
   "source": [
    "import numpy as np"
   ]
  },
  {
   "cell_type": "code",
   "execution_count": 2,
   "id": "a2d712d8-afed-450a-84d8-64e3db293319",
   "metadata": {},
   "outputs": [],
   "source": [
    "# working with shape attribute\n",
    "# "
   ]
  },
  {
   "cell_type": "code",
   "execution_count": null,
   "id": "9d8dfece-46e1-4ddd-9a2c-93ea5eb6dd97",
   "metadata": {},
   "outputs": [],
   "source": [
    "# 1 D array []"
   ]
  },
  {
   "cell_type": "code",
   "execution_count": 5,
   "id": "5c42b0f2-39f7-45d7-aed5-d12cf5270965",
   "metadata": {},
   "outputs": [
    {
     "data": {
      "text/plain": [
       "array([5, 6, 7, 8, 9])"
      ]
     },
     "execution_count": 5,
     "metadata": {},
     "output_type": "execute_result"
    }
   ],
   "source": [
    "arr1 = np.array(np.arange(5,10))\n",
    "arr1"
   ]
  },
  {
   "cell_type": "code",
   "execution_count": 26,
   "id": "0db691c3-6fdb-4ae8-92d4-d7c4d9139809",
   "metadata": {},
   "outputs": [
    {
     "data": {
      "text/plain": [
       "(5,)"
      ]
     },
     "execution_count": 26,
     "metadata": {},
     "output_type": "execute_result"
    }
   ],
   "source": [
    "arr1.shape"
   ]
  },
  {
   "cell_type": "code",
   "execution_count": 27,
   "id": "158005c9-1791-4d04-b20a-924974f2a1e5",
   "metadata": {},
   "outputs": [
    {
     "data": {
      "text/plain": [
       "1"
      ]
     },
     "execution_count": 27,
     "metadata": {},
     "output_type": "execute_result"
    }
   ],
   "source": [
    "arr1.ndim"
   ]
  },
  {
   "cell_type": "code",
   "execution_count": null,
   "id": "19f4098e-d29f-4f7d-b155-6eea17bc4bdb",
   "metadata": {},
   "outputs": [],
   "source": [
    "# 2 d array [ [] ]"
   ]
  },
  {
   "cell_type": "code",
   "execution_count": 29,
   "id": "e91d6b11-0273-4f77-a3b4-89aa2226cae1",
   "metadata": {},
   "outputs": [
    {
     "data": {
      "text/plain": [
       "array([[1, 2, 3, 4, 5]])"
      ]
     },
     "execution_count": 29,
     "metadata": {},
     "output_type": "execute_result"
    }
   ],
   "source": [
    "arr1_1 = np.array([np.arange(1,6)])\n",
    "arr1_1"
   ]
  },
  {
   "cell_type": "code",
   "execution_count": 30,
   "id": "871f1b39-0816-40d5-933a-aed7ffcb546b",
   "metadata": {},
   "outputs": [
    {
     "data": {
      "text/plain": [
       "(1, 5)"
      ]
     },
     "execution_count": 30,
     "metadata": {},
     "output_type": "execute_result"
    }
   ],
   "source": [
    "arr1_1.shape"
   ]
  },
  {
   "cell_type": "code",
   "execution_count": 31,
   "id": "e6ab53ff-d33a-4c4e-b886-042516ccb4f5",
   "metadata": {},
   "outputs": [
    {
     "data": {
      "text/plain": [
       "2"
      ]
     },
     "execution_count": 31,
     "metadata": {},
     "output_type": "execute_result"
    }
   ],
   "source": [
    "arr1_1.ndim"
   ]
  },
  {
   "cell_type": "code",
   "execution_count": null,
   "id": "7ad44953-c115-40f5-9985-0885b70b3377",
   "metadata": {},
   "outputs": [],
   "source": []
  },
  {
   "cell_type": "code",
   "execution_count": 15,
   "id": "f2166399-79af-4d5c-8dc3-6d894df67276",
   "metadata": {},
   "outputs": [
    {
     "data": {
      "text/plain": [
       "array([[ 1,  2,  3,  4,  5],\n",
       "       [ 6,  7,  8,  9, 10]])"
      ]
     },
     "execution_count": 15,
     "metadata": {},
     "output_type": "execute_result"
    }
   ],
   "source": [
    "# arr2 = np.array([[np.arange(0,10,2)],[np.arange(10,20,2)]])\n",
    "arr2 = np.array([[1,2,3,4,5],[6,7,8,9,10]])\n",
    "arr2"
   ]
  },
  {
   "cell_type": "code",
   "execution_count": 17,
   "id": "57d24b57-65bc-4538-985e-b27b46d5d842",
   "metadata": {},
   "outputs": [
    {
     "data": {
      "text/plain": [
       "(2, 5)"
      ]
     },
     "execution_count": 17,
     "metadata": {},
     "output_type": "execute_result"
    }
   ],
   "source": [
    "arr2.shape"
   ]
  },
  {
   "cell_type": "code",
   "execution_count": 28,
   "id": "7cbacec9-ece8-44ad-9290-28d1af8151d4",
   "metadata": {},
   "outputs": [
    {
     "data": {
      "text/plain": [
       "2"
      ]
     },
     "execution_count": 28,
     "metadata": {},
     "output_type": "execute_result"
    }
   ],
   "source": [
    "arr2.ndim"
   ]
  },
  {
   "cell_type": "code",
   "execution_count": null,
   "id": "878c3f1e-4bc0-4892-ab75-47528648b9a6",
   "metadata": {},
   "outputs": [],
   "source": [
    "# 3 dimentional"
   ]
  },
  {
   "cell_type": "code",
   "execution_count": 22,
   "id": "8bfc7ff9-8c65-4ea1-8aef-fd50cbfce7a9",
   "metadata": {},
   "outputs": [
    {
     "data": {
      "text/plain": [
       "array([[[1, 2],\n",
       "        [2, 3]],\n",
       "\n",
       "       [[1, 4],\n",
       "        [4, 6]]])"
      ]
     },
     "execution_count": 22,
     "metadata": {},
     "output_type": "execute_result"
    }
   ],
   "source": [
    "arr3 = np.array([ [[1,2],[2,3]], [[1,4],[4,6]] ])\n",
    "arr3"
   ]
  },
  {
   "cell_type": "code",
   "execution_count": 24,
   "id": "d23fb7ab-7d7f-470f-9e38-aa66adbe1a09",
   "metadata": {},
   "outputs": [
    {
     "data": {
      "text/plain": [
       "(2, 2, 2)"
      ]
     },
     "execution_count": 24,
     "metadata": {},
     "output_type": "execute_result"
    }
   ],
   "source": [
    "arr3.shape"
   ]
  },
  {
   "cell_type": "code",
   "execution_count": null,
   "id": "ab1ba740-abf5-4a8e-9996-75afed2ce35c",
   "metadata": {},
   "outputs": [],
   "source": [
    "# ndim evaluate number of dimension"
   ]
  },
  {
   "cell_type": "code",
   "execution_count": 25,
   "id": "428c90ae-5480-46da-a5f0-7a9d64e6d26a",
   "metadata": {},
   "outputs": [
    {
     "data": {
      "text/plain": [
       "3"
      ]
     },
     "execution_count": 25,
     "metadata": {},
     "output_type": "execute_result"
    }
   ],
   "source": [
    "arr3.ndim"
   ]
  },
  {
   "cell_type": "code",
   "execution_count": 33,
   "id": "5a9e801b-0440-413f-8435-9268ba819724",
   "metadata": {},
   "outputs": [],
   "source": [
    "# size : number of element"
   ]
  },
  {
   "cell_type": "code",
   "execution_count": 35,
   "id": "0b3ed2df-c838-4e58-96d7-d261300885ae",
   "metadata": {},
   "outputs": [
    {
     "data": {
      "text/plain": [
       "8"
      ]
     },
     "execution_count": 35,
     "metadata": {},
     "output_type": "execute_result"
    }
   ],
   "source": [
    "arr3.size"
   ]
  },
  {
   "cell_type": "code",
   "execution_count": 36,
   "id": "0b358ece-e2fa-464f-bc7f-7d973016cedc",
   "metadata": {},
   "outputs": [
    {
     "data": {
      "text/plain": [
       "10"
      ]
     },
     "execution_count": 36,
     "metadata": {},
     "output_type": "execute_result"
    }
   ],
   "source": [
    "arr2.size"
   ]
  },
  {
   "cell_type": "code",
   "execution_count": 37,
   "id": "1ac05b03-459e-4858-92f3-ff7f5bcdfde1",
   "metadata": {},
   "outputs": [],
   "source": [
    "# itemsize: like int 4 byte, float 8 byte"
   ]
  },
  {
   "cell_type": "code",
   "execution_count": 45,
   "id": "86f34c05-c67c-4ada-827e-ef4fdb23000e",
   "metadata": {},
   "outputs": [
    {
     "data": {
      "text/plain": [
       "array([2.        , 2.33333333, 2.66666667, 3.        , 3.33333333,\n",
       "       3.66666667, 4.        , 4.33333333, 4.66666667, 5.        ])"
      ]
     },
     "execution_count": 45,
     "metadata": {},
     "output_type": "execute_result"
    }
   ],
   "source": [
    "arr4 = np.linspace(2,5,10)\n",
    "arr4"
   ]
  },
  {
   "cell_type": "code",
   "execution_count": 48,
   "id": "ede8a897-4797-423e-b7ce-63e94f9a4e61",
   "metadata": {},
   "outputs": [
    {
     "data": {
      "text/plain": [
       "8"
      ]
     },
     "execution_count": 48,
     "metadata": {},
     "output_type": "execute_result"
    }
   ],
   "source": [
    "arr4.itemsize"
   ]
  },
  {
   "cell_type": "code",
   "execution_count": 49,
   "id": "45013db2-e575-4a0f-a344-4d321940448c",
   "metadata": {},
   "outputs": [
    {
     "data": {
      "text/plain": [
       "8"
      ]
     },
     "execution_count": 49,
     "metadata": {},
     "output_type": "execute_result"
    }
   ],
   "source": [
    "arr1.itemsize"
   ]
  },
  {
   "cell_type": "code",
   "execution_count": 52,
   "id": "dffba2b6-472f-4d0e-aa9b-8c2d2fbb10ee",
   "metadata": {},
   "outputs": [
    {
     "data": {
      "text/plain": [
       "8"
      ]
     },
     "execution_count": 52,
     "metadata": {},
     "output_type": "execute_result"
    }
   ],
   "source": [
    "arr3.itemsize"
   ]
  },
  {
   "cell_type": "code",
   "execution_count": 53,
   "id": "01942840-6d27-421d-a4af-8fd9f19dc8e2",
   "metadata": {},
   "outputs": [
    {
     "data": {
      "text/plain": [
       "4"
      ]
     },
     "execution_count": 53,
     "metadata": {},
     "output_type": "execute_result"
    }
   ],
   "source": [
    "x = np.array([1,2,3], dtype = np.int32)\n",
    "x.itemsize"
   ]
  },
  {
   "cell_type": "code",
   "execution_count": 54,
   "id": "4a783bb5-4a28-435f-a1fb-7c9a626470f6",
   "metadata": {},
   "outputs": [],
   "source": [
    "# dtype : data type"
   ]
  },
  {
   "cell_type": "code",
   "execution_count": 56,
   "id": "86aa511a-ce19-4de3-a0a6-3f7e076ddd44",
   "metadata": {},
   "outputs": [
    {
     "data": {
      "text/plain": [
       "dtype('int64')"
      ]
     },
     "execution_count": 56,
     "metadata": {},
     "output_type": "execute_result"
    }
   ],
   "source": [
    "arr1.dtype"
   ]
  },
  {
   "cell_type": "code",
   "execution_count": 58,
   "id": "3f37dd90-883d-4fed-92be-8fa910c2679d",
   "metadata": {},
   "outputs": [
    {
     "data": {
      "text/plain": [
       "dtype('int64')"
      ]
     },
     "execution_count": 58,
     "metadata": {},
     "output_type": "execute_result"
    }
   ],
   "source": [
    "arr1_1.dtype"
   ]
  },
  {
   "cell_type": "code",
   "execution_count": 59,
   "id": "5d550ee8-0c86-40d2-abd3-a35e31727c83",
   "metadata": {},
   "outputs": [
    {
     "data": {
      "text/plain": [
       "dtype('int64')"
      ]
     },
     "execution_count": 59,
     "metadata": {},
     "output_type": "execute_result"
    }
   ],
   "source": [
    "arr2.dtype"
   ]
  },
  {
   "cell_type": "code",
   "execution_count": 60,
   "id": "ae32643e-e563-4696-9fe9-ab8131306adf",
   "metadata": {},
   "outputs": [
    {
     "data": {
      "text/plain": [
       "dtype('float64')"
      ]
     },
     "execution_count": 60,
     "metadata": {},
     "output_type": "execute_result"
    }
   ],
   "source": [
    "arr3.dtype"
   ]
  },
  {
   "cell_type": "code",
   "execution_count": 61,
   "id": "f9a3aa74-ff9f-48fa-9495-95999b19aad4",
   "metadata": {},
   "outputs": [
    {
     "data": {
      "text/plain": [
       "dtype('float64')"
      ]
     },
     "execution_count": 61,
     "metadata": {},
     "output_type": "execute_result"
    }
   ],
   "source": [
    "arr4.dtype"
   ]
  },
  {
   "cell_type": "code",
   "execution_count": 62,
   "id": "18e3de8f-7cab-4f78-80ea-ffee9f323f7c",
   "metadata": {},
   "outputs": [],
   "source": [
    "# astype('data_type_name'): similar to type conversion"
   ]
  },
  {
   "cell_type": "code",
   "execution_count": 64,
   "id": "9e6a5e19-5436-4e85-8ee2-c4eb0518aad3",
   "metadata": {},
   "outputs": [
    {
     "data": {
      "text/plain": [
       "array([2.        , 2.33333333, 2.66666667, 3.        , 3.33333333,\n",
       "       3.66666667, 4.        , 4.33333333, 4.66666667, 5.        ])"
      ]
     },
     "execution_count": 64,
     "metadata": {},
     "output_type": "execute_result"
    }
   ],
   "source": [
    "arr3.astype('float')"
   ]
  },
  {
   "cell_type": "code",
   "execution_count": 65,
   "id": "8a43f60f-09bb-4e82-9736-f4eb927dbd7b",
   "metadata": {},
   "outputs": [
    {
     "data": {
      "text/plain": [
       "array([2, 2, 2, 3, 3, 3, 4, 4, 4, 5])"
      ]
     },
     "execution_count": 65,
     "metadata": {},
     "output_type": "execute_result"
    }
   ],
   "source": [
    "arr3.astype('int')"
   ]
  },
  {
   "cell_type": "code",
   "execution_count": 66,
   "id": "825f22bc-b947-476b-8c9f-807b3dc79130",
   "metadata": {},
   "outputs": [
    {
     "data": {
      "text/plain": [
       "array(['2.0', '2.3333333333333335', '2.6666666666666665', '3.0',\n",
       "       '3.333333333333333', '3.6666666666666665', '4.0',\n",
       "       '4.333333333333333', '4.666666666666666', '5.0'], dtype='<U32')"
      ]
     },
     "execution_count": 66,
     "metadata": {},
     "output_type": "execute_result"
    }
   ],
   "source": [
    "arr3.astype('str')"
   ]
  },
  {
   "cell_type": "code",
   "execution_count": null,
   "id": "4f4e8f87-3e93-4be3-8a7c-edb1b562ae2c",
   "metadata": {},
   "outputs": [],
   "source": []
  }
 ],
 "metadata": {
  "kernelspec": {
   "display_name": "Python [conda env:base] *",
   "language": "python",
   "name": "conda-base-py"
  },
  "language_info": {
   "codemirror_mode": {
    "name": "ipython",
    "version": 3
   },
   "file_extension": ".py",
   "mimetype": "text/x-python",
   "name": "python",
   "nbconvert_exporter": "python",
   "pygments_lexer": "ipython3",
   "version": "3.13.5"
  },
  "widgets": {
   "application/vnd.jupyter.widget-state+json": {
    "state": {},
    "version_major": 2,
    "version_minor": 0
   }
  }
 },
 "nbformat": 4,
 "nbformat_minor": 5
}
