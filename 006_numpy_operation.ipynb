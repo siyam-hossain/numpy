{
 "cells": [
  {
   "cell_type": "code",
   "execution_count": 2,
   "id": "d4099737",
   "metadata": {},
   "outputs": [],
   "source": [
    "import numpy as np"
   ]
  },
  {
   "cell_type": "code",
   "execution_count": 3,
   "id": "7dbc1da4",
   "metadata": {},
   "outputs": [
    {
     "name": "stdout",
     "output_type": "stream",
     "text": [
      "a: [1 2 3 4 5 6]\n",
      "b: [4 5 6 7 8 9]\n"
     ]
    }
   ],
   "source": [
    "a = np.arange(1,7)\n",
    "b = np.arange(4,10)\n",
    "print(\"a:\",a)\n",
    "print(\"b:\",b)"
   ]
  },
  {
   "cell_type": "code",
   "execution_count": null,
   "id": "a3fa7dae",
   "metadata": {},
   "outputs": [],
   "source": [
    "# basic operations"
   ]
  },
  {
   "cell_type": "code",
   "execution_count": 4,
   "id": "7882f9db",
   "metadata": {},
   "outputs": [],
   "source": [
    "# addition: element wise addition"
   ]
  },
  {
   "cell_type": "code",
   "execution_count": 5,
   "id": "725fdea7",
   "metadata": {},
   "outputs": [
    {
     "data": {
      "text/plain": [
       "array([ 5,  7,  9, 11, 13, 15])"
      ]
     },
     "execution_count": 5,
     "metadata": {},
     "output_type": "execute_result"
    }
   ],
   "source": [
    "a + b"
   ]
  },
  {
   "cell_type": "code",
   "execution_count": 6,
   "id": "f24d4e79",
   "metadata": {},
   "outputs": [],
   "source": [
    "# subtraction: element wise subtraction"
   ]
  },
  {
   "cell_type": "code",
   "execution_count": 7,
   "id": "e0d1a69d",
   "metadata": {},
   "outputs": [
    {
     "data": {
      "text/plain": [
       "array([-3, -3, -3, -3, -3, -3])"
      ]
     },
     "execution_count": 7,
     "metadata": {},
     "output_type": "execute_result"
    }
   ],
   "source": [
    "a - b"
   ]
  },
  {
   "cell_type": "code",
   "execution_count": 8,
   "id": "021bac75",
   "metadata": {},
   "outputs": [],
   "source": [
    "# multiplication: element wise multiplication : similar to vector multiplication"
   ]
  },
  {
   "cell_type": "code",
   "execution_count": 9,
   "id": "7fded73b",
   "metadata": {},
   "outputs": [
    {
     "data": {
      "text/plain": [
       "array([ 4, 10, 18, 28, 40, 54])"
      ]
     },
     "execution_count": 9,
     "metadata": {},
     "output_type": "execute_result"
    }
   ],
   "source": [
    "a * b"
   ]
  },
  {
   "cell_type": "code",
   "execution_count": 10,
   "id": "214fdd27",
   "metadata": {},
   "outputs": [],
   "source": [
    "# division: element wise division"
   ]
  },
  {
   "cell_type": "code",
   "execution_count": 11,
   "id": "e522792b",
   "metadata": {},
   "outputs": [
    {
     "data": {
      "text/plain": [
       "array([0.25      , 0.4       , 0.5       , 0.57142857, 0.625     ,\n",
       "       0.66666667])"
      ]
     },
     "execution_count": 11,
     "metadata": {},
     "output_type": "execute_result"
    }
   ],
   "source": [
    "a / b"
   ]
  },
  {
   "cell_type": "code",
   "execution_count": 12,
   "id": "a456a579",
   "metadata": {},
   "outputs": [],
   "source": [
    "# scalar multiplication"
   ]
  },
  {
   "cell_type": "code",
   "execution_count": 13,
   "id": "e4fc1731",
   "metadata": {},
   "outputs": [
    {
     "data": {
      "text/plain": [
       "array([ 2,  4,  6,  8, 10, 12])"
      ]
     },
     "execution_count": 13,
     "metadata": {},
     "output_type": "execute_result"
    }
   ],
   "source": [
    "a*2"
   ]
  },
  {
   "cell_type": "code",
   "execution_count": 14,
   "id": "f4b66180",
   "metadata": {},
   "outputs": [],
   "source": [
    "# checking condition true or false"
   ]
  },
  {
   "cell_type": "code",
   "execution_count": 15,
   "id": "ba5bb3d0",
   "metadata": {},
   "outputs": [
    {
     "data": {
      "text/plain": [
       "array([ True,  True,  True,  True,  True,  True])"
      ]
     },
     "execution_count": 15,
     "metadata": {},
     "output_type": "execute_result"
    }
   ],
   "source": [
    "b > 3"
   ]
  },
  {
   "cell_type": "code",
   "execution_count": 16,
   "id": "13a9fc61",
   "metadata": {},
   "outputs": [],
   "source": [
    "# matrix multiplication or dot multiplication   \n",
    "# m matrix row X n matrix col \n",
    "# (Mr X Mc), (Nr x Nc)\n",
    "# mul. of (M.N) possible if Mc = Nr other then not :new dimension = Mr X Nc \n",
    "# mul. of (N.M) possible if Nc = Mr other then not :new dimension = Mr X Nc \n"
   ]
  },
  {
   "cell_type": "code",
   "execution_count": 17,
   "id": "98767c01",
   "metadata": {},
   "outputs": [
    {
     "data": {
      "text/plain": [
       "array([[ 28,  31],\n",
       "       [100, 112]])"
      ]
     },
     "execution_count": 17,
     "metadata": {},
     "output_type": "execute_result"
    }
   ],
   "source": [
    "m1 = np.arange(6).reshape(2,3)\n",
    "m2 = np.arange(6,12).reshape(3,2)\n",
    "\n",
    "m1.dot(m2)"
   ]
  },
  {
   "cell_type": "code",
   "execution_count": 18,
   "id": "2078d3f4",
   "metadata": {},
   "outputs": [
    {
     "data": {
      "text/plain": [
       "array([[21, 34, 47],\n",
       "       [27, 44, 61],\n",
       "       [33, 54, 75]])"
      ]
     },
     "execution_count": 18,
     "metadata": {},
     "output_type": "execute_result"
    }
   ],
   "source": [
    "m2.dot(m1)"
   ]
  },
  {
   "cell_type": "code",
   "execution_count": null,
   "id": "f7dc8eb3",
   "metadata": {},
   "outputs": [],
   "source": [
    "# unary operations"
   ]
  },
  {
   "cell_type": "code",
   "execution_count": 19,
   "id": "b15c72eb",
   "metadata": {},
   "outputs": [],
   "source": [
    "# Min, Max of a matrix"
   ]
  },
  {
   "cell_type": "code",
   "execution_count": 20,
   "id": "aa5af30b",
   "metadata": {},
   "outputs": [
    {
     "data": {
      "text/plain": [
       "np.int64(0)"
      ]
     },
     "execution_count": 20,
     "metadata": {},
     "output_type": "execute_result"
    }
   ],
   "source": [
    "m1.min()"
   ]
  },
  {
   "cell_type": "code",
   "execution_count": 21,
   "id": "09ef88c6",
   "metadata": {},
   "outputs": [
    {
     "name": "stdout",
     "output_type": "stream",
     "text": [
      "6\n"
     ]
    }
   ],
   "source": [
    "m2.min()\n",
    "print(m2.min())"
   ]
  },
  {
   "cell_type": "code",
   "execution_count": 22,
   "id": "da0d5795",
   "metadata": {},
   "outputs": [
    {
     "name": "stdout",
     "output_type": "stream",
     "text": [
      "5\n",
      "11\n"
     ]
    }
   ],
   "source": [
    "print(m1.max())\n",
    "print(m2.max())"
   ]
  },
  {
   "cell_type": "code",
   "execution_count": 44,
   "id": "354cce34",
   "metadata": {},
   "outputs": [
    {
     "data": {
      "text/plain": [
       "np.int64(15)"
      ]
     },
     "execution_count": 44,
     "metadata": {},
     "output_type": "execute_result"
    }
   ],
   "source": [
    "m1.sum()"
   ]
  },
  {
   "cell_type": "code",
   "execution_count": 23,
   "id": "bf9f2376",
   "metadata": {},
   "outputs": [],
   "source": [
    "# axis wise or row wise max min value"
   ]
  },
  {
   "cell_type": "code",
   "execution_count": null,
   "id": "31b9ae9a",
   "metadata": {},
   "outputs": [],
   "source": [
    "m3 = np.array([[1,9,6,8,5],\n",
    "               [2,5,7,6,12],\n",
    "               [0,82,4,65,3]])"
   ]
  },
  {
   "cell_type": "code",
   "execution_count": null,
   "id": "7540c9e7",
   "metadata": {},
   "outputs": [],
   "source": [
    "# axis = 0 : mean each column wise operation"
   ]
  },
  {
   "cell_type": "code",
   "execution_count": 37,
   "id": "0bc240b2",
   "metadata": {},
   "outputs": [
    {
     "data": {
      "text/plain": [
       "array([0, 5, 4, 6, 3])"
      ]
     },
     "execution_count": 37,
     "metadata": {},
     "output_type": "execute_result"
    }
   ],
   "source": [
    "m3.min(axis=0)"
   ]
  },
  {
   "cell_type": "code",
   "execution_count": 42,
   "id": "54ac5154",
   "metadata": {},
   "outputs": [
    {
     "data": {
      "text/plain": [
       "array([ 2, 82,  7, 65, 12])"
      ]
     },
     "execution_count": 42,
     "metadata": {},
     "output_type": "execute_result"
    }
   ],
   "source": [
    "m3.max(axis=0)"
   ]
  },
  {
   "cell_type": "code",
   "execution_count": 41,
   "id": "78bc69bf",
   "metadata": {},
   "outputs": [
    {
     "data": {
      "text/plain": [
       "array([ 3, 96, 17, 79, 20])"
      ]
     },
     "execution_count": 41,
     "metadata": {},
     "output_type": "execute_result"
    }
   ],
   "source": [
    "m3.sum(axis=0)"
   ]
  },
  {
   "cell_type": "code",
   "execution_count": null,
   "id": "37b129d1",
   "metadata": {},
   "outputs": [],
   "source": [
    "# axis = 1 : mean each row wise operation"
   ]
  },
  {
   "cell_type": "code",
   "execution_count": 39,
   "id": "194a40d3",
   "metadata": {},
   "outputs": [
    {
     "data": {
      "text/plain": [
       "array([1, 2, 0])"
      ]
     },
     "execution_count": 39,
     "metadata": {},
     "output_type": "execute_result"
    }
   ],
   "source": [
    "m3.min(axis=1)"
   ]
  },
  {
   "cell_type": "code",
   "execution_count": 43,
   "id": "9cc9c060",
   "metadata": {},
   "outputs": [
    {
     "data": {
      "text/plain": [
       "array([ 9, 12, 82])"
      ]
     },
     "execution_count": 43,
     "metadata": {},
     "output_type": "execute_result"
    }
   ],
   "source": [
    "m3.max(axis=1)"
   ]
  },
  {
   "cell_type": "code",
   "execution_count": 40,
   "id": "cee6c57c",
   "metadata": {},
   "outputs": [
    {
     "data": {
      "text/plain": [
       "array([ 29,  32, 154])"
      ]
     },
     "execution_count": 40,
     "metadata": {},
     "output_type": "execute_result"
    }
   ],
   "source": [
    "m3.sum(axis=1)"
   ]
  },
  {
   "cell_type": "code",
   "execution_count": 46,
   "id": "40fd0b80",
   "metadata": {},
   "outputs": [
    {
     "data": {
      "text/plain": [
       "np.float64(14.333333333333334)"
      ]
     },
     "execution_count": 46,
     "metadata": {},
     "output_type": "execute_result"
    }
   ],
   "source": [
    "m3.mean()"
   ]
  },
  {
   "cell_type": "code",
   "execution_count": null,
   "id": "85d5780f",
   "metadata": {},
   "outputs": [],
   "source": [
    "# universal functions"
   ]
  },
  {
   "cell_type": "code",
   "execution_count": null,
   "id": "5f20f4c2",
   "metadata": {},
   "outputs": [],
   "source": [
    "# standard deviation"
   ]
  },
  {
   "cell_type": "code",
   "execution_count": 47,
   "id": "6441fe96",
   "metadata": {},
   "outputs": [
    {
     "data": {
      "text/plain": [
       "np.float64(23.604142762565125)"
      ]
     },
     "execution_count": 47,
     "metadata": {},
     "output_type": "execute_result"
    }
   ],
   "source": [
    "m3.std()"
   ]
  },
  {
   "cell_type": "code",
   "execution_count": 48,
   "id": "21bf3a48",
   "metadata": {},
   "outputs": [],
   "source": [
    "# median "
   ]
  },
  {
   "cell_type": "code",
   "execution_count": 49,
   "id": "598de416",
   "metadata": {},
   "outputs": [
    {
     "data": {
      "text/plain": [
       "np.float64(6.0)"
      ]
     },
     "execution_count": 49,
     "metadata": {},
     "output_type": "execute_result"
    }
   ],
   "source": [
    "np.median(m3)"
   ]
  },
  {
   "cell_type": "code",
   "execution_count": 50,
   "id": "0052d279",
   "metadata": {},
   "outputs": [],
   "source": [
    "# sin"
   ]
  },
  {
   "cell_type": "code",
   "execution_count": 51,
   "id": "50683458",
   "metadata": {},
   "outputs": [
    {
     "data": {
      "text/plain": [
       "array([[ 0.84147098,  0.41211849, -0.2794155 ,  0.98935825, -0.95892427],\n",
       "       [ 0.90929743, -0.95892427,  0.6569866 , -0.2794155 , -0.53657292],\n",
       "       [ 0.        ,  0.31322878, -0.7568025 ,  0.82682868,  0.14112001]])"
      ]
     },
     "execution_count": 51,
     "metadata": {},
     "output_type": "execute_result"
    }
   ],
   "source": [
    "np.sin(m3)"
   ]
  },
  {
   "cell_type": "code",
   "execution_count": 52,
   "id": "15a46548",
   "metadata": {},
   "outputs": [],
   "source": [
    "# exponent"
   ]
  },
  {
   "cell_type": "code",
   "execution_count": 53,
   "id": "43360ec8",
   "metadata": {},
   "outputs": [
    {
     "data": {
      "text/plain": [
       "array([[2.71828183e+00, 8.10308393e+03, 4.03428793e+02, 2.98095799e+03,\n",
       "        1.48413159e+02],\n",
       "       [7.38905610e+00, 1.48413159e+02, 1.09663316e+03, 4.03428793e+02,\n",
       "        1.62754791e+05],\n",
       "       [1.00000000e+00, 4.09399696e+35, 5.45981500e+01, 1.69488924e+28,\n",
       "        2.00855369e+01]])"
      ]
     },
     "execution_count": 53,
     "metadata": {},
     "output_type": "execute_result"
    }
   ],
   "source": [
    "np.exp(m3)"
   ]
  },
  {
   "cell_type": "code",
   "execution_count": 57,
   "id": "34f27a0a",
   "metadata": {},
   "outputs": [
    {
     "data": {
      "text/plain": [
       "array([[1.        , 3.        , 2.44948974, 2.82842712, 2.23606798],\n",
       "       [1.41421356, 2.23606798, 2.64575131, 2.44948974, 3.46410162],\n",
       "       [0.        , 9.05538514, 2.        , 8.06225775, 1.73205081]])"
      ]
     },
     "execution_count": 57,
     "metadata": {},
     "output_type": "execute_result"
    }
   ],
   "source": [
    "ct = np.sqrt(m3)\n",
    "ct"
   ]
  },
  {
   "cell_type": "code",
   "execution_count": null,
   "id": "5b59b858",
   "metadata": {},
   "outputs": [],
   "source": [
    "# converting data type using astype()"
   ]
  },
  {
   "cell_type": "code",
   "execution_count": 58,
   "id": "24c5e06d",
   "metadata": {},
   "outputs": [
    {
     "data": {
      "text/plain": [
       "array([[1, 3, 2, 2, 2],\n",
       "       [1, 2, 2, 2, 3],\n",
       "       [0, 9, 2, 8, 1]])"
      ]
     },
     "execution_count": 58,
     "metadata": {},
     "output_type": "execute_result"
    }
   ],
   "source": [
    "ct.astype(int)"
   ]
  }
 ],
 "metadata": {
  "kernelspec": {
   "display_name": "numpy_env",
   "language": "python",
   "name": "python3"
  },
  "language_info": {
   "codemirror_mode": {
    "name": "ipython",
    "version": 3
   },
   "file_extension": ".py",
   "mimetype": "text/x-python",
   "name": "python",
   "nbconvert_exporter": "python",
   "pygments_lexer": "ipython3",
   "version": "3.12.3"
  }
 },
 "nbformat": 4,
 "nbformat_minor": 5
}
