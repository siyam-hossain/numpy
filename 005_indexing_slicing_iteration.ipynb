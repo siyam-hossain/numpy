{
 "cells": [
  {
   "cell_type": "code",
   "execution_count": 16,
   "id": "30330470",
   "metadata": {},
   "outputs": [],
   "source": [
    "import numpy as np"
   ]
  },
  {
   "cell_type": "code",
   "execution_count": 17,
   "id": "319158a6",
   "metadata": {},
   "outputs": [],
   "source": [
    "# reshape(row,col): \n",
    "# note: must follow total_element = row*col\n",
    "# example: total_element = 24\n",
    "# .reshape(2*12) or 3*4, 4*6, 12*2, 12*1, 6*4"
   ]
  },
  {
   "cell_type": "code",
   "execution_count": 18,
   "id": "ec3be4e0",
   "metadata": {},
   "outputs": [
    {
     "data": {
      "text/plain": [
       "array([ 0,  1,  2,  3,  4,  5,  6,  7,  8,  9, 10, 11, 12, 13, 14, 15, 16,\n",
       "       17, 18, 19, 20, 21, 22, 23])"
      ]
     },
     "execution_count": 18,
     "metadata": {},
     "output_type": "execute_result"
    }
   ],
   "source": [
    "a = np.arange(24)\n",
    "a"
   ]
  },
  {
   "cell_type": "code",
   "execution_count": 19,
   "id": "09de17a0",
   "metadata": {},
   "outputs": [
    {
     "data": {
      "text/plain": [
       "array([[ 0,  1,  2,  3,  4,  5],\n",
       "       [ 6,  7,  8,  9, 10, 11],\n",
       "       [12, 13, 14, 15, 16, 17],\n",
       "       [18, 19, 20, 21, 22, 23]])"
      ]
     },
     "execution_count": 19,
     "metadata": {},
     "output_type": "execute_result"
    }
   ],
   "source": [
    "b = np.copy(a).reshape(4,6)\n",
    "b"
   ]
  },
  {
   "cell_type": "code",
   "execution_count": 20,
   "id": "d0fcf5a7",
   "metadata": {},
   "outputs": [
    {
     "data": {
      "text/plain": [
       "array([[ 0,  1,  2,  3],\n",
       "       [ 4,  5,  6,  7],\n",
       "       [ 8,  9, 10, 11],\n",
       "       [12, 13, 14, 15],\n",
       "       [16, 17, 18, 19],\n",
       "       [20, 21, 22, 23]])"
      ]
     },
     "execution_count": 20,
     "metadata": {},
     "output_type": "execute_result"
    }
   ],
   "source": [
    "c = np.arange(24).reshape(6,4)\n",
    "c"
   ]
  },
  {
   "cell_type": "code",
   "execution_count": null,
   "id": "d6a28f3c",
   "metadata": {},
   "outputs": [],
   "source": [
    "# Slicing Start from here"
   ]
  },
  {
   "cell_type": "code",
   "execution_count": null,
   "id": "8a0f0c0b",
   "metadata": {},
   "outputs": [],
   "source": [
    "# Extract column 3"
   ]
  },
  {
   "cell_type": "code",
   "execution_count": 21,
   "id": "295ab493",
   "metadata": {},
   "outputs": [
    {
     "data": {
      "text/plain": [
       "array([ 2,  6, 10, 14, 18, 22])"
      ]
     },
     "execution_count": 21,
     "metadata": {},
     "output_type": "execute_result"
    }
   ],
   "source": [
    "c[range(6),2]"
   ]
  },
  {
   "cell_type": "code",
   "execution_count": 23,
   "id": "86747eb1",
   "metadata": {},
   "outputs": [
    {
     "data": {
      "text/plain": [
       "array([ 2,  6, 10, 14, 18, 22])"
      ]
     },
     "execution_count": 23,
     "metadata": {},
     "output_type": "execute_result"
    }
   ],
   "source": [
    "c[:,2]"
   ]
  },
  {
   "cell_type": "code",
   "execution_count": 24,
   "id": "9f54fac2",
   "metadata": {},
   "outputs": [],
   "source": [
    "# Extract : \n",
    "# 13 14\n",
    "# 17 18"
   ]
  },
  {
   "cell_type": "code",
   "execution_count": 28,
   "id": "72c7cd2e",
   "metadata": {},
   "outputs": [
    {
     "data": {
      "text/plain": [
       "array([[13, 14],\n",
       "       [17, 18]])"
      ]
     },
     "execution_count": 28,
     "metadata": {},
     "output_type": "execute_result"
    }
   ],
   "source": [
    "c[3:5, 1:3]"
   ]
  },
  {
   "cell_type": "code",
   "execution_count": 30,
   "id": "55f5c604",
   "metadata": {},
   "outputs": [],
   "source": [
    "# Explanation\n",
    "# c[row -> start: stop 1 step before ,  col -> start: stop 1 step before]"
   ]
  },
  {
   "cell_type": "code",
   "execution_count": 31,
   "id": "c5d375b5",
   "metadata": {},
   "outputs": [],
   "source": [
    "# Extract : \n",
    "# 14 15\n",
    "# 18 19\n",
    "# 22 23"
   ]
  },
  {
   "cell_type": "code",
   "execution_count": 34,
   "id": "2a187f16",
   "metadata": {},
   "outputs": [
    {
     "data": {
      "text/plain": [
       "array([[14, 15],\n",
       "       [18, 19],\n",
       "       [22, 23]])"
      ]
     },
     "execution_count": 34,
     "metadata": {},
     "output_type": "execute_result"
    }
   ],
   "source": [
    "c[3:6 , 2:4]"
   ]
  },
  {
   "cell_type": "code",
   "execution_count": 36,
   "id": "9d4b8ec6",
   "metadata": {},
   "outputs": [
    {
     "data": {
      "text/plain": [
       "array([[14, 15],\n",
       "       [18, 19],\n",
       "       [22, 23]])"
      ]
     },
     "execution_count": 36,
     "metadata": {},
     "output_type": "execute_result"
    }
   ],
   "source": [
    "c[3: , 2:]"
   ]
  },
  {
   "cell_type": "code",
   "execution_count": 39,
   "id": "4e8898c6",
   "metadata": {},
   "outputs": [],
   "source": [
    "# Iteration like for loop"
   ]
  },
  {
   "cell_type": "code",
   "execution_count": 41,
   "id": "ac518761",
   "metadata": {},
   "outputs": [
    {
     "name": "stdout",
     "output_type": "stream",
     "text": [
      "[0 1 2 3]\n",
      "[4 5 6 7]\n",
      "[ 8  9 10 11]\n",
      "[12 13 14 15]\n",
      "[16 17 18 19]\n",
      "[20 21 22 23]\n"
     ]
    }
   ],
   "source": [
    "for row in c:\n",
    "    print(row)"
   ]
  },
  {
   "cell_type": "code",
   "execution_count": 42,
   "id": "33a8fa8e",
   "metadata": {},
   "outputs": [],
   "source": [
    "# built in iteration function"
   ]
  },
  {
   "cell_type": "code",
   "execution_count": 43,
   "id": "4af39b99",
   "metadata": {},
   "outputs": [
    {
     "name": "stdout",
     "output_type": "stream",
     "text": [
      "0\n",
      "1\n",
      "2\n",
      "3\n",
      "4\n",
      "5\n",
      "6\n",
      "7\n",
      "8\n",
      "9\n",
      "10\n",
      "11\n",
      "12\n",
      "13\n",
      "14\n",
      "15\n",
      "16\n",
      "17\n",
      "18\n",
      "19\n",
      "20\n",
      "21\n",
      "22\n",
      "23\n"
     ]
    }
   ],
   "source": [
    "for item in np.nditer(c):\n",
    "    print(item)"
   ]
  }
 ],
 "metadata": {
  "kernelspec": {
   "display_name": "numpy_env",
   "language": "python",
   "name": "python3"
  },
  "language_info": {
   "codemirror_mode": {
    "name": "ipython",
    "version": 3
   },
   "file_extension": ".py",
   "mimetype": "text/x-python",
   "name": "python",
   "nbconvert_exporter": "python",
   "pygments_lexer": "ipython3",
   "version": "3.12.3"
  }
 },
 "nbformat": 4,
 "nbformat_minor": 5
}
